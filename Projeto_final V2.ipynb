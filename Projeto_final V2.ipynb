{
 "cells": [
  {
   "cell_type": "code",
   "execution_count": 41,
   "metadata": {},
   "outputs": [],
   "source": [
    "# IMPORTANTO BIBLIOTECAS\n",
    "\n",
    "import pandas as pd\n",
    "import requests\n",
    "from plyer import notification \n",
    "from datetime import datetime"
   ]
  },
  {
   "cell_type": "code",
   "execution_count": 42,
   "metadata": {},
   "outputs": [],
   "source": [
    "#CRIANDO FUNÇÃO DE ALERTA\n",
    "\n",
    "def alerta (api, status_code):\n",
    "    if status_code != 200:\n",
    "        notification.notify(\n",
    "        title='ATENÇÃO: Falha ao acessar API',\n",
    "        message=(f'Falha ao acessar a api {api}. \\n {datetime.now()}.'),        \n",
    "        timeout=5)"
   ]
  },
  {
   "cell_type": "code",
   "execution_count": 43,
   "metadata": {},
   "outputs": [],
   "source": [
    "# ACESSANDO APIS VALIDANDO COM A FUNÇÃO ALERTA\n",
    "\n",
    "pokemons = requests.get(\"https://pokeapi.co/api/v2/pokemon\")\n",
    "alerta(\"'pokemons'\", pokemons.status_code)\n",
    "pokemons_tipos = requests.get(\"https://pokeapi.co/api/v2/type\")\n",
    "alerta(\"'pokemons_tipos'\", pokemons_tipos.status_code)\n",
    "taxa_evolucao = requests.get(\"https://pokeapi.co/api/v2/growth-rate\")\n",
    "alerta(\"'taxa_evolucao'\", taxa_evolucao.status_code)"
   ]
  },
  {
   "cell_type": "code",
   "execution_count": 45,
   "metadata": {},
   "outputs": [
    {
     "data": {
      "text/plain": [
       "{'count': 1302,\n",
       " 'next': 'https://pokeapi.co/api/v2/pokemon?offset=20&limit=20',\n",
       " 'previous': None,\n",
       " 'results': [{'name': 'bulbasaur',\n",
       "   'url': 'https://pokeapi.co/api/v2/pokemon/1/'},\n",
       "  {'name': 'ivysaur', 'url': 'https://pokeapi.co/api/v2/pokemon/2/'},\n",
       "  {'name': 'venusaur', 'url': 'https://pokeapi.co/api/v2/pokemon/3/'},\n",
       "  {'name': 'charmander', 'url': 'https://pokeapi.co/api/v2/pokemon/4/'},\n",
       "  {'name': 'charmeleon', 'url': 'https://pokeapi.co/api/v2/pokemon/5/'},\n",
       "  {'name': 'charizard', 'url': 'https://pokeapi.co/api/v2/pokemon/6/'},\n",
       "  {'name': 'squirtle', 'url': 'https://pokeapi.co/api/v2/pokemon/7/'},\n",
       "  {'name': 'wartortle', 'url': 'https://pokeapi.co/api/v2/pokemon/8/'},\n",
       "  {'name': 'blastoise', 'url': 'https://pokeapi.co/api/v2/pokemon/9/'},\n",
       "  {'name': 'caterpie', 'url': 'https://pokeapi.co/api/v2/pokemon/10/'},\n",
       "  {'name': 'metapod', 'url': 'https://pokeapi.co/api/v2/pokemon/11/'},\n",
       "  {'name': 'butterfree', 'url': 'https://pokeapi.co/api/v2/pokemon/12/'},\n",
       "  {'name': 'weedle', 'url': 'https://pokeapi.co/api/v2/pokemon/13/'},\n",
       "  {'name': 'kakuna', 'url': 'https://pokeapi.co/api/v2/pokemon/14/'},\n",
       "  {'name': 'beedrill', 'url': 'https://pokeapi.co/api/v2/pokemon/15/'},\n",
       "  {'name': 'pidgey', 'url': 'https://pokeapi.co/api/v2/pokemon/16/'},\n",
       "  {'name': 'pidgeotto', 'url': 'https://pokeapi.co/api/v2/pokemon/17/'},\n",
       "  {'name': 'pidgeot', 'url': 'https://pokeapi.co/api/v2/pokemon/18/'},\n",
       "  {'name': 'rattata', 'url': 'https://pokeapi.co/api/v2/pokemon/19/'},\n",
       "  {'name': 'raticate', 'url': 'https://pokeapi.co/api/v2/pokemon/20/'}]}"
      ]
     },
     "execution_count": 45,
     "metadata": {},
     "output_type": "execute_result"
    }
   ],
   "source": [
    "pokemons.json()\n",
    "\n"
   ]
  },
  {
   "cell_type": "code",
   "execution_count": 46,
   "metadata": {},
   "outputs": [
    {
     "data": {
      "text/plain": [
       "{'count': 20,\n",
       " 'next': None,\n",
       " 'previous': None,\n",
       " 'results': [{'name': 'normal', 'url': 'https://pokeapi.co/api/v2/type/1/'},\n",
       "  {'name': 'fighting', 'url': 'https://pokeapi.co/api/v2/type/2/'},\n",
       "  {'name': 'flying', 'url': 'https://pokeapi.co/api/v2/type/3/'},\n",
       "  {'name': 'poison', 'url': 'https://pokeapi.co/api/v2/type/4/'},\n",
       "  {'name': 'ground', 'url': 'https://pokeapi.co/api/v2/type/5/'},\n",
       "  {'name': 'rock', 'url': 'https://pokeapi.co/api/v2/type/6/'},\n",
       "  {'name': 'bug', 'url': 'https://pokeapi.co/api/v2/type/7/'},\n",
       "  {'name': 'ghost', 'url': 'https://pokeapi.co/api/v2/type/8/'},\n",
       "  {'name': 'steel', 'url': 'https://pokeapi.co/api/v2/type/9/'},\n",
       "  {'name': 'fire', 'url': 'https://pokeapi.co/api/v2/type/10/'},\n",
       "  {'name': 'water', 'url': 'https://pokeapi.co/api/v2/type/11/'},\n",
       "  {'name': 'grass', 'url': 'https://pokeapi.co/api/v2/type/12/'},\n",
       "  {'name': 'electric', 'url': 'https://pokeapi.co/api/v2/type/13/'},\n",
       "  {'name': 'psychic', 'url': 'https://pokeapi.co/api/v2/type/14/'},\n",
       "  {'name': 'ice', 'url': 'https://pokeapi.co/api/v2/type/15/'},\n",
       "  {'name': 'dragon', 'url': 'https://pokeapi.co/api/v2/type/16/'},\n",
       "  {'name': 'dark', 'url': 'https://pokeapi.co/api/v2/type/17/'},\n",
       "  {'name': 'fairy', 'url': 'https://pokeapi.co/api/v2/type/18/'},\n",
       "  {'name': 'unknown', 'url': 'https://pokeapi.co/api/v2/type/10001/'},\n",
       "  {'name': 'shadow', 'url': 'https://pokeapi.co/api/v2/type/10002/'}]}"
      ]
     },
     "execution_count": 46,
     "metadata": {},
     "output_type": "execute_result"
    }
   ],
   "source": [
    "pokemons_tipos.json()"
   ]
  },
  {
   "cell_type": "code",
   "execution_count": 47,
   "metadata": {},
   "outputs": [
    {
     "data": {
      "text/plain": [
       "{'count': 6,\n",
       " 'next': None,\n",
       " 'previous': None,\n",
       " 'results': [{'name': 'slow',\n",
       "   'url': 'https://pokeapi.co/api/v2/growth-rate/1/'},\n",
       "  {'name': 'medium', 'url': 'https://pokeapi.co/api/v2/growth-rate/2/'},\n",
       "  {'name': 'fast', 'url': 'https://pokeapi.co/api/v2/growth-rate/3/'},\n",
       "  {'name': 'medium-slow', 'url': 'https://pokeapi.co/api/v2/growth-rate/4/'},\n",
       "  {'name': 'slow-then-very-fast',\n",
       "   'url': 'https://pokeapi.co/api/v2/growth-rate/5/'},\n",
       "  {'name': 'fast-then-very-slow',\n",
       "   'url': 'https://pokeapi.co/api/v2/growth-rate/6/'}]}"
      ]
     },
     "execution_count": 47,
     "metadata": {},
     "output_type": "execute_result"
    }
   ],
   "source": [
    "taxa_evolucao.json()"
   ]
  }
 ],
 "metadata": {
  "kernelspec": {
   "display_name": "Python 3",
   "language": "python",
   "name": "python3"
  },
  "language_info": {
   "codemirror_mode": {
    "name": "ipython",
    "version": 3
   },
   "file_extension": ".py",
   "mimetype": "text/x-python",
   "name": "python",
   "nbconvert_exporter": "python",
   "pygments_lexer": "ipython3",
   "version": "3.10.10"
  }
 },
 "nbformat": 4,
 "nbformat_minor": 2
}
