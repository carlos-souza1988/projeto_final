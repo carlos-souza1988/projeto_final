{
 "cells": [
  {
   "cell_type": "code",
   "execution_count": 17,
   "metadata": {},
   "outputs": [],
   "source": [
    "# IMPORTANTO BIBLIOTECAS\n",
    "\n",
    "import pandas as pd\n",
    "import requests\n",
    "from plyer import notification \n",
    "from datetime import datetime"
   ]
  },
  {
   "cell_type": "code",
   "execution_count": 18,
   "metadata": {},
   "outputs": [],
   "source": [
    "#CRIANDO FUNÇÃO DE ALERTA\n",
    "\n",
    "def alerta (api, status_code):\n",
    "    if status_code != 200:\n",
    "        notification.notify(\n",
    "        title='ATENÇÃO: Falha ao acessar API',\n",
    "        message=(f'Falha ao acessar a api {api}. \\n {datetime.now()}.'),        \n",
    "        timeout=5)"
   ]
  },
  {
   "cell_type": "code",
   "execution_count": 19,
   "metadata": {},
   "outputs": [],
   "source": [
    "# ACESSANDO APIS VALIDANDO COM A FUNÇÃO ALERTA\n",
    "\n",
    "pokemons = requests.get(\"https://pokeapi.co/api/v2/pokemon\")\n",
    "alerta(\"'pokemons'\", pokemons.status_code)\n",
    "pokemons_habilidades = requests.get(\"https://pokeapi.co/api/v2/ability\")\n",
    "alerta(\"'pokemons_habilidades'\", pokemons_habilidades.status_code)\n",
    "taxa_evolucao = requests.get(\"https://pokeapi.co/api/v2/growth-rate\")\n",
    "alerta(\"'taxa_evolucao'\", taxa_evolucao.status_code)"
   ]
  },
  {
   "cell_type": "code",
   "execution_count": 20,
   "metadata": {},
   "outputs": [
    {
     "data": {
      "text/plain": [
       "{'count': 1302,\n",
       " 'next': 'https://pokeapi.co/api/v2/pokemon?offset=20&limit=20',\n",
       " 'previous': None,\n",
       " 'results': [{'name': 'bulbasaur',\n",
       "   'url': 'https://pokeapi.co/api/v2/pokemon/1/'},\n",
       "  {'name': 'ivysaur', 'url': 'https://pokeapi.co/api/v2/pokemon/2/'},\n",
       "  {'name': 'venusaur', 'url': 'https://pokeapi.co/api/v2/pokemon/3/'},\n",
       "  {'name': 'charmander', 'url': 'https://pokeapi.co/api/v2/pokemon/4/'},\n",
       "  {'name': 'charmeleon', 'url': 'https://pokeapi.co/api/v2/pokemon/5/'},\n",
       "  {'name': 'charizard', 'url': 'https://pokeapi.co/api/v2/pokemon/6/'},\n",
       "  {'name': 'squirtle', 'url': 'https://pokeapi.co/api/v2/pokemon/7/'},\n",
       "  {'name': 'wartortle', 'url': 'https://pokeapi.co/api/v2/pokemon/8/'},\n",
       "  {'name': 'blastoise', 'url': 'https://pokeapi.co/api/v2/pokemon/9/'},\n",
       "  {'name': 'caterpie', 'url': 'https://pokeapi.co/api/v2/pokemon/10/'},\n",
       "  {'name': 'metapod', 'url': 'https://pokeapi.co/api/v2/pokemon/11/'},\n",
       "  {'name': 'butterfree', 'url': 'https://pokeapi.co/api/v2/pokemon/12/'},\n",
       "  {'name': 'weedle', 'url': 'https://pokeapi.co/api/v2/pokemon/13/'},\n",
       "  {'name': 'kakuna', 'url': 'https://pokeapi.co/api/v2/pokemon/14/'},\n",
       "  {'name': 'beedrill', 'url': 'https://pokeapi.co/api/v2/pokemon/15/'},\n",
       "  {'name': 'pidgey', 'url': 'https://pokeapi.co/api/v2/pokemon/16/'},\n",
       "  {'name': 'pidgeotto', 'url': 'https://pokeapi.co/api/v2/pokemon/17/'},\n",
       "  {'name': 'pidgeot', 'url': 'https://pokeapi.co/api/v2/pokemon/18/'},\n",
       "  {'name': 'rattata', 'url': 'https://pokeapi.co/api/v2/pokemon/19/'},\n",
       "  {'name': 'raticate', 'url': 'https://pokeapi.co/api/v2/pokemon/20/'}]}"
      ]
     },
     "execution_count": 20,
     "metadata": {},
     "output_type": "execute_result"
    }
   ],
   "source": [
    "pokemons.json()"
   ]
  },
  {
   "cell_type": "code",
   "execution_count": 21,
   "metadata": {},
   "outputs": [
    {
     "data": {
      "text/plain": [
       "{'count': 367,\n",
       " 'next': 'https://pokeapi.co/api/v2/ability?offset=20&limit=20',\n",
       " 'previous': None,\n",
       " 'results': [{'name': 'stench', 'url': 'https://pokeapi.co/api/v2/ability/1/'},\n",
       "  {'name': 'drizzle', 'url': 'https://pokeapi.co/api/v2/ability/2/'},\n",
       "  {'name': 'speed-boost', 'url': 'https://pokeapi.co/api/v2/ability/3/'},\n",
       "  {'name': 'battle-armor', 'url': 'https://pokeapi.co/api/v2/ability/4/'},\n",
       "  {'name': 'sturdy', 'url': 'https://pokeapi.co/api/v2/ability/5/'},\n",
       "  {'name': 'damp', 'url': 'https://pokeapi.co/api/v2/ability/6/'},\n",
       "  {'name': 'limber', 'url': 'https://pokeapi.co/api/v2/ability/7/'},\n",
       "  {'name': 'sand-veil', 'url': 'https://pokeapi.co/api/v2/ability/8/'},\n",
       "  {'name': 'static', 'url': 'https://pokeapi.co/api/v2/ability/9/'},\n",
       "  {'name': 'volt-absorb', 'url': 'https://pokeapi.co/api/v2/ability/10/'},\n",
       "  {'name': 'water-absorb', 'url': 'https://pokeapi.co/api/v2/ability/11/'},\n",
       "  {'name': 'oblivious', 'url': 'https://pokeapi.co/api/v2/ability/12/'},\n",
       "  {'name': 'cloud-nine', 'url': 'https://pokeapi.co/api/v2/ability/13/'},\n",
       "  {'name': 'compound-eyes', 'url': 'https://pokeapi.co/api/v2/ability/14/'},\n",
       "  {'name': 'insomnia', 'url': 'https://pokeapi.co/api/v2/ability/15/'},\n",
       "  {'name': 'color-change', 'url': 'https://pokeapi.co/api/v2/ability/16/'},\n",
       "  {'name': 'immunity', 'url': 'https://pokeapi.co/api/v2/ability/17/'},\n",
       "  {'name': 'flash-fire', 'url': 'https://pokeapi.co/api/v2/ability/18/'},\n",
       "  {'name': 'shield-dust', 'url': 'https://pokeapi.co/api/v2/ability/19/'},\n",
       "  {'name': 'own-tempo', 'url': 'https://pokeapi.co/api/v2/ability/20/'}]}"
      ]
     },
     "execution_count": 21,
     "metadata": {},
     "output_type": "execute_result"
    }
   ],
   "source": [
    "pokemons_habilidades.json()"
   ]
  },
  {
   "cell_type": "code",
   "execution_count": 22,
   "metadata": {},
   "outputs": [
    {
     "data": {
      "text/plain": [
       "{'count': 6,\n",
       " 'next': None,\n",
       " 'previous': None,\n",
       " 'results': [{'name': 'slow',\n",
       "   'url': 'https://pokeapi.co/api/v2/growth-rate/1/'},\n",
       "  {'name': 'medium', 'url': 'https://pokeapi.co/api/v2/growth-rate/2/'},\n",
       "  {'name': 'fast', 'url': 'https://pokeapi.co/api/v2/growth-rate/3/'},\n",
       "  {'name': 'medium-slow', 'url': 'https://pokeapi.co/api/v2/growth-rate/4/'},\n",
       "  {'name': 'slow-then-very-fast',\n",
       "   'url': 'https://pokeapi.co/api/v2/growth-rate/5/'},\n",
       "  {'name': 'fast-then-very-slow',\n",
       "   'url': 'https://pokeapi.co/api/v2/growth-rate/6/'}]}"
      ]
     },
     "execution_count": 22,
     "metadata": {},
     "output_type": "execute_result"
    }
   ],
   "source": [
    "taxa_evolucao.json()"
   ]
  }
 ],
 "metadata": {
  "kernelspec": {
   "display_name": "Python 3",
   "language": "python",
   "name": "python3"
  },
  "language_info": {
   "codemirror_mode": {
    "name": "ipython",
    "version": 3
   },
   "file_extension": ".py",
   "mimetype": "text/x-python",
   "name": "python",
   "nbconvert_exporter": "python",
   "pygments_lexer": "ipython3",
   "version": "3.10.10"
  }
 },
 "nbformat": 4,
 "nbformat_minor": 2
}
